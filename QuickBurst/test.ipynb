{
 "cells": [
  {
   "cell_type": "code",
   "execution_count": 13,
   "id": "fba68033",
   "metadata": {},
   "outputs": [
    {
     "name": "stdout",
     "output_type": "stream",
     "text": [
      "[[-2 -1]\n",
      " [-1 -2]]\n",
      "I caught it\n"
     ]
    }
   ],
   "source": [
    "import scipy.linalg as sl\n",
    "import numpy as np\n",
    "import logging\n",
    "my_logger = logging.getLogger(\"logs\")\n",
    "logging.basicConfig(filename=\"error.log\",\n",
    "                    filemode='w+',\n",
    "                    level=logging.ERROR,\n",
    "                    format='%(levelname)s - %(message)s')\n",
    "\n",
    "\n",
    "def temp(happy):\n",
    "    try:\n",
    "        return sl.cho_factor(happy,lower=True,overwrite_a=True,check_finite=False)\n",
    "    except sl.LinAlgError as e:\n",
    "        my_logger.error({e}, exc_info=True)\n",
    "        return \"I caught it\"\n",
    "    except:\n",
    "        print(\"uhh\")\n",
    "    \n",
    "\n",
    "my_matrix = np.array([[-2,-1],[-1,-2]])\n",
    "print(my_matrix.T)\n",
    "print(temp(my_matrix))"
   ]
  }
 ],
 "metadata": {
  "kernelspec": {
   "display_name": "ng20",
   "language": "python",
   "name": "python3"
  },
  "language_info": {
   "codemirror_mode": {
    "name": "ipython",
    "version": 3
   },
   "file_extension": ".py",
   "mimetype": "text/x-python",
   "name": "python",
   "nbconvert_exporter": "python",
   "pygments_lexer": "ipython3",
   "version": "3.12.11"
  }
 },
 "nbformat": 4,
 "nbformat_minor": 5
}
